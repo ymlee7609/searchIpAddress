{
  "nbformat": 4,
  "nbformat_minor": 0,
  "metadata": {
    "colab": {
      "provenance": [],
      "authorship_tag": "ABX9TyM+iGivoBjs8KrolON4qLeH",
      "include_colab_link": true
    },
    "kernelspec": {
      "name": "python3",
      "display_name": "Python 3"
    },
    "language_info": {
      "name": "python"
    }
  },
  "cells": [
    {
      "cell_type": "markdown",
      "metadata": {
        "id": "view-in-github",
        "colab_type": "text"
      },
      "source": [
        "<a href=\"https://colab.research.google.com/github/ymlee7609/searchIpAddress/blob/main/langchain_csv.ipynb\" target=\"_parent\"><img src=\"https://colab.research.google.com/assets/colab-badge.svg\" alt=\"Open In Colab\"/></a>"
      ]
    },
    {
      "cell_type": "code",
      "execution_count": 9,
      "metadata": {
        "colab": {
          "base_uri": "https://localhost:8080/"
        },
        "id": "S88gngyeA1Zo",
        "outputId": "74a15f65-42a9-439c-b82f-a6688e653b6d"
      },
      "outputs": [
        {
          "output_type": "stream",
          "name": "stdout",
          "text": [
            "\u001b[?25l     \u001b[90m━━━━━━━━━━━━━━━━━━━━━━━━━━━━━━━━━━━━━━━━\u001b[0m \u001b[32m0.0/103.5 kB\u001b[0m \u001b[31m?\u001b[0m eta \u001b[36m-:--:--\u001b[0m\r\u001b[2K     \u001b[90m━━━━━━━━━━━━━━━━━━━━━━━━━━━━━━━━━━━━━━━━\u001b[0m \u001b[32m103.5/103.5 kB\u001b[0m \u001b[31m3.3 MB/s\u001b[0m eta \u001b[36m0:00:00\u001b[0m\n",
            "\u001b[?25h"
          ]
        }
      ],
      "source": [
        "!pip install -qU langchain langchain-openai langchain-groq langchain-community langchain-experimental pandas"
      ]
    },
    {
      "cell_type": "code",
      "source": [
        "from langchain.agents.agent_types import AgentType\n",
        "from langchain_experimental.agents.agent_toolkits import create_pandas_dataframe_agent\n",
        "from langchain_openai import ChatOpenAI"
      ],
      "metadata": {
        "id": "Mb8rUQOlA66D"
      },
      "execution_count": 2,
      "outputs": []
    },
    {
      "cell_type": "code",
      "source": [
        "import pandas as pd\n",
        "from langchain_openai import OpenAI\n",
        "\n",
        "df = pd.read_csv(\"https://github.com/ymlee7609/searchIpAddress/raw/main/IP_info_sample.csv\", on_bad_lines='skip')"
      ],
      "metadata": {
        "id": "8UhcKQ_lBLiE"
      },
      "execution_count": 6,
      "outputs": []
    },
    {
      "cell_type": "code",
      "source": [
        "df"
      ],
      "metadata": {
        "colab": {
          "base_uri": "https://localhost:8080/",
          "height": 553
        },
        "id": "rD9WY1rWBa_y",
        "outputId": "0958be28-82bb-47f1-835d-dd27f6fe6a7c"
      },
      "execution_count": 7,
      "outputs": [
        {
          "output_type": "execute_result",
          "data": {
            "text/plain": [
              "      망구분 할당단계 IP주소 체계         IP주소  서브넷                        IP주소 범위  \\\n",
              "0  IP인프라망   1차  IPv4사설  100.170.0.0   17  100.170.0.0 ~ 100.170.127.255   \n",
              "1  IP인프라망   2차  IPv4사설  100.170.0.0   24    100.170.0.0 ~ 100.170.0.255   \n",
              "2  IP인프라망   2차  IPv4사설  100.170.1.0   24    100.170.1.0 ~ 100.170.1.255   \n",
              "3  IP인프라망   2차  IPv4사설  100.170.2.0   24    100.170.2.0 ~ 100.170.2.255   \n",
              "4  IP인프라망   2차  IPv4사설  100.170.3.0   24    100.170.3.0 ~ 100.170.3.255   \n",
              "5  IP인프라망   2차  IPv4사설  100.170.4.0   24    100.170.4.0 ~ 100.170.4.255   \n",
              "6  IP인프라망   2차  IPv4사설  100.170.5.0   24    100.170.5.0 ~ 100.170.5.255   \n",
              "7  IP인프라망   2차  IPv4사설  100.170.6.0   24    100.170.6.0 ~ 100.170.6.255   \n",
              "8  IP인프라망   2차  IPv4사설  100.170.7.0   24    100.170.7.0 ~ 100.170.7.255   \n",
              "9  IP인프라망   2차  IPv4사설  100.170.8.0   24    100.170.8.0 ~ 100.170.8.255   \n",
              "\n",
              "      관리팀         장비명  연동장비명                        용도     비고  IDC고객명  \\\n",
              "0    K기술팀         NaN    NaN         광대역데이터망 백본 링크용 IP  S국사 B     NaN   \n",
              "1  DS인프라팀  S_MX960_B1    NaN            (인터링크) 백본1_백본2  S국사 B     NaN   \n",
              "2  DS인프라팀  S_MX960_B1    NaN          (업링크) 백본1_상위 장비1  S국사 B     NaN   \n",
              "3  DS인프라팀  S_MX960_B1    NaN          (업링크) 백본1_상위 장비2  S국사 B     NaN   \n",
              "4  DS인프라팀  S_MX960_B1    NaN          (다운링크) 백본1_하위 장비  S국사 B     NaN   \n",
              "5  DS인프라팀  S_MX960_B1    NaN                   RESERVE  S국사 B     NaN   \n",
              "6  DS인프라팀  S_MX960_B1    NaN          (다운링크) 백본1_하위 장비  S국사 B     NaN   \n",
              "7  DS인프라팀  S_MX960_B1    NaN                   RESERVE  S국사 B     NaN   \n",
              "8  DS인프라팀  S_MX960_B1    NaN  (국사이원화 인터링크) 백본1_타국사 백본1  S국사 B     NaN   \n",
              "9  DS인프라팀  S_MX960_B2    NaN                   RESERVE  S국사 B     NaN   \n",
              "\n",
              "   IDC고객ID   상태  중복체크자  할당요청부서  \n",
              "0      NaN  미사용    NaN     NaN  \n",
              "1      NaN  미사용    NaN     NaN  \n",
              "2      NaN  미사용    NaN     NaN  \n",
              "3      NaN  미사용    NaN     NaN  \n",
              "4      NaN  미사용    NaN     NaN  \n",
              "5      NaN  미사용    NaN     NaN  \n",
              "6      NaN  미사용    NaN     NaN  \n",
              "7      NaN  미사용    NaN     NaN  \n",
              "8      NaN  미사용    NaN     NaN  \n",
              "9      NaN  미사용    NaN     NaN  "
            ],
            "text/html": [
              "\n",
              "  <div id=\"df-cd22bebe-39fe-4008-a0d1-530a8702e53e\" class=\"colab-df-container\">\n",
              "    <div>\n",
              "<style scoped>\n",
              "    .dataframe tbody tr th:only-of-type {\n",
              "        vertical-align: middle;\n",
              "    }\n",
              "\n",
              "    .dataframe tbody tr th {\n",
              "        vertical-align: top;\n",
              "    }\n",
              "\n",
              "    .dataframe thead th {\n",
              "        text-align: right;\n",
              "    }\n",
              "</style>\n",
              "<table border=\"1\" class=\"dataframe\">\n",
              "  <thead>\n",
              "    <tr style=\"text-align: right;\">\n",
              "      <th></th>\n",
              "      <th>망구분</th>\n",
              "      <th>할당단계</th>\n",
              "      <th>IP주소 체계</th>\n",
              "      <th>IP주소</th>\n",
              "      <th>서브넷</th>\n",
              "      <th>IP주소 범위</th>\n",
              "      <th>관리팀</th>\n",
              "      <th>장비명</th>\n",
              "      <th>연동장비명</th>\n",
              "      <th>용도</th>\n",
              "      <th>비고</th>\n",
              "      <th>IDC고객명</th>\n",
              "      <th>IDC고객ID</th>\n",
              "      <th>상태</th>\n",
              "      <th>중복체크자</th>\n",
              "      <th>할당요청부서</th>\n",
              "    </tr>\n",
              "  </thead>\n",
              "  <tbody>\n",
              "    <tr>\n",
              "      <th>0</th>\n",
              "      <td>IP인프라망</td>\n",
              "      <td>1차</td>\n",
              "      <td>IPv4사설</td>\n",
              "      <td>100.170.0.0</td>\n",
              "      <td>17</td>\n",
              "      <td>100.170.0.0 ~ 100.170.127.255</td>\n",
              "      <td>K기술팀</td>\n",
              "      <td>NaN</td>\n",
              "      <td>NaN</td>\n",
              "      <td>광대역데이터망 백본 링크용 IP</td>\n",
              "      <td>S국사 B</td>\n",
              "      <td>NaN</td>\n",
              "      <td>NaN</td>\n",
              "      <td>미사용</td>\n",
              "      <td>NaN</td>\n",
              "      <td>NaN</td>\n",
              "    </tr>\n",
              "    <tr>\n",
              "      <th>1</th>\n",
              "      <td>IP인프라망</td>\n",
              "      <td>2차</td>\n",
              "      <td>IPv4사설</td>\n",
              "      <td>100.170.0.0</td>\n",
              "      <td>24</td>\n",
              "      <td>100.170.0.0 ~ 100.170.0.255</td>\n",
              "      <td>DS인프라팀</td>\n",
              "      <td>S_MX960_B1</td>\n",
              "      <td>NaN</td>\n",
              "      <td>(인터링크) 백본1_백본2</td>\n",
              "      <td>S국사 B</td>\n",
              "      <td>NaN</td>\n",
              "      <td>NaN</td>\n",
              "      <td>미사용</td>\n",
              "      <td>NaN</td>\n",
              "      <td>NaN</td>\n",
              "    </tr>\n",
              "    <tr>\n",
              "      <th>2</th>\n",
              "      <td>IP인프라망</td>\n",
              "      <td>2차</td>\n",
              "      <td>IPv4사설</td>\n",
              "      <td>100.170.1.0</td>\n",
              "      <td>24</td>\n",
              "      <td>100.170.1.0 ~ 100.170.1.255</td>\n",
              "      <td>DS인프라팀</td>\n",
              "      <td>S_MX960_B1</td>\n",
              "      <td>NaN</td>\n",
              "      <td>(업링크) 백본1_상위 장비1</td>\n",
              "      <td>S국사 B</td>\n",
              "      <td>NaN</td>\n",
              "      <td>NaN</td>\n",
              "      <td>미사용</td>\n",
              "      <td>NaN</td>\n",
              "      <td>NaN</td>\n",
              "    </tr>\n",
              "    <tr>\n",
              "      <th>3</th>\n",
              "      <td>IP인프라망</td>\n",
              "      <td>2차</td>\n",
              "      <td>IPv4사설</td>\n",
              "      <td>100.170.2.0</td>\n",
              "      <td>24</td>\n",
              "      <td>100.170.2.0 ~ 100.170.2.255</td>\n",
              "      <td>DS인프라팀</td>\n",
              "      <td>S_MX960_B1</td>\n",
              "      <td>NaN</td>\n",
              "      <td>(업링크) 백본1_상위 장비2</td>\n",
              "      <td>S국사 B</td>\n",
              "      <td>NaN</td>\n",
              "      <td>NaN</td>\n",
              "      <td>미사용</td>\n",
              "      <td>NaN</td>\n",
              "      <td>NaN</td>\n",
              "    </tr>\n",
              "    <tr>\n",
              "      <th>4</th>\n",
              "      <td>IP인프라망</td>\n",
              "      <td>2차</td>\n",
              "      <td>IPv4사설</td>\n",
              "      <td>100.170.3.0</td>\n",
              "      <td>24</td>\n",
              "      <td>100.170.3.0 ~ 100.170.3.255</td>\n",
              "      <td>DS인프라팀</td>\n",
              "      <td>S_MX960_B1</td>\n",
              "      <td>NaN</td>\n",
              "      <td>(다운링크) 백본1_하위 장비</td>\n",
              "      <td>S국사 B</td>\n",
              "      <td>NaN</td>\n",
              "      <td>NaN</td>\n",
              "      <td>미사용</td>\n",
              "      <td>NaN</td>\n",
              "      <td>NaN</td>\n",
              "    </tr>\n",
              "    <tr>\n",
              "      <th>5</th>\n",
              "      <td>IP인프라망</td>\n",
              "      <td>2차</td>\n",
              "      <td>IPv4사설</td>\n",
              "      <td>100.170.4.0</td>\n",
              "      <td>24</td>\n",
              "      <td>100.170.4.0 ~ 100.170.4.255</td>\n",
              "      <td>DS인프라팀</td>\n",
              "      <td>S_MX960_B1</td>\n",
              "      <td>NaN</td>\n",
              "      <td>RESERVE</td>\n",
              "      <td>S국사 B</td>\n",
              "      <td>NaN</td>\n",
              "      <td>NaN</td>\n",
              "      <td>미사용</td>\n",
              "      <td>NaN</td>\n",
              "      <td>NaN</td>\n",
              "    </tr>\n",
              "    <tr>\n",
              "      <th>6</th>\n",
              "      <td>IP인프라망</td>\n",
              "      <td>2차</td>\n",
              "      <td>IPv4사설</td>\n",
              "      <td>100.170.5.0</td>\n",
              "      <td>24</td>\n",
              "      <td>100.170.5.0 ~ 100.170.5.255</td>\n",
              "      <td>DS인프라팀</td>\n",
              "      <td>S_MX960_B1</td>\n",
              "      <td>NaN</td>\n",
              "      <td>(다운링크) 백본1_하위 장비</td>\n",
              "      <td>S국사 B</td>\n",
              "      <td>NaN</td>\n",
              "      <td>NaN</td>\n",
              "      <td>미사용</td>\n",
              "      <td>NaN</td>\n",
              "      <td>NaN</td>\n",
              "    </tr>\n",
              "    <tr>\n",
              "      <th>7</th>\n",
              "      <td>IP인프라망</td>\n",
              "      <td>2차</td>\n",
              "      <td>IPv4사설</td>\n",
              "      <td>100.170.6.0</td>\n",
              "      <td>24</td>\n",
              "      <td>100.170.6.0 ~ 100.170.6.255</td>\n",
              "      <td>DS인프라팀</td>\n",
              "      <td>S_MX960_B1</td>\n",
              "      <td>NaN</td>\n",
              "      <td>RESERVE</td>\n",
              "      <td>S국사 B</td>\n",
              "      <td>NaN</td>\n",
              "      <td>NaN</td>\n",
              "      <td>미사용</td>\n",
              "      <td>NaN</td>\n",
              "      <td>NaN</td>\n",
              "    </tr>\n",
              "    <tr>\n",
              "      <th>8</th>\n",
              "      <td>IP인프라망</td>\n",
              "      <td>2차</td>\n",
              "      <td>IPv4사설</td>\n",
              "      <td>100.170.7.0</td>\n",
              "      <td>24</td>\n",
              "      <td>100.170.7.0 ~ 100.170.7.255</td>\n",
              "      <td>DS인프라팀</td>\n",
              "      <td>S_MX960_B1</td>\n",
              "      <td>NaN</td>\n",
              "      <td>(국사이원화 인터링크) 백본1_타국사 백본1</td>\n",
              "      <td>S국사 B</td>\n",
              "      <td>NaN</td>\n",
              "      <td>NaN</td>\n",
              "      <td>미사용</td>\n",
              "      <td>NaN</td>\n",
              "      <td>NaN</td>\n",
              "    </tr>\n",
              "    <tr>\n",
              "      <th>9</th>\n",
              "      <td>IP인프라망</td>\n",
              "      <td>2차</td>\n",
              "      <td>IPv4사설</td>\n",
              "      <td>100.170.8.0</td>\n",
              "      <td>24</td>\n",
              "      <td>100.170.8.0 ~ 100.170.8.255</td>\n",
              "      <td>DS인프라팀</td>\n",
              "      <td>S_MX960_B2</td>\n",
              "      <td>NaN</td>\n",
              "      <td>RESERVE</td>\n",
              "      <td>S국사 B</td>\n",
              "      <td>NaN</td>\n",
              "      <td>NaN</td>\n",
              "      <td>미사용</td>\n",
              "      <td>NaN</td>\n",
              "      <td>NaN</td>\n",
              "    </tr>\n",
              "  </tbody>\n",
              "</table>\n",
              "</div>\n",
              "    <div class=\"colab-df-buttons\">\n",
              "\n",
              "  <div class=\"colab-df-container\">\n",
              "    <button class=\"colab-df-convert\" onclick=\"convertToInteractive('df-cd22bebe-39fe-4008-a0d1-530a8702e53e')\"\n",
              "            title=\"Convert this dataframe to an interactive table.\"\n",
              "            style=\"display:none;\">\n",
              "\n",
              "  <svg xmlns=\"http://www.w3.org/2000/svg\" height=\"24px\" viewBox=\"0 -960 960 960\">\n",
              "    <path d=\"M120-120v-720h720v720H120Zm60-500h600v-160H180v160Zm220 220h160v-160H400v160Zm0 220h160v-160H400v160ZM180-400h160v-160H180v160Zm440 0h160v-160H620v160ZM180-180h160v-160H180v160Zm440 0h160v-160H620v160Z\"/>\n",
              "  </svg>\n",
              "    </button>\n",
              "\n",
              "  <style>\n",
              "    .colab-df-container {\n",
              "      display:flex;\n",
              "      gap: 12px;\n",
              "    }\n",
              "\n",
              "    .colab-df-convert {\n",
              "      background-color: #E8F0FE;\n",
              "      border: none;\n",
              "      border-radius: 50%;\n",
              "      cursor: pointer;\n",
              "      display: none;\n",
              "      fill: #1967D2;\n",
              "      height: 32px;\n",
              "      padding: 0 0 0 0;\n",
              "      width: 32px;\n",
              "    }\n",
              "\n",
              "    .colab-df-convert:hover {\n",
              "      background-color: #E2EBFA;\n",
              "      box-shadow: 0px 1px 2px rgba(60, 64, 67, 0.3), 0px 1px 3px 1px rgba(60, 64, 67, 0.15);\n",
              "      fill: #174EA6;\n",
              "    }\n",
              "\n",
              "    .colab-df-buttons div {\n",
              "      margin-bottom: 4px;\n",
              "    }\n",
              "\n",
              "    [theme=dark] .colab-df-convert {\n",
              "      background-color: #3B4455;\n",
              "      fill: #D2E3FC;\n",
              "    }\n",
              "\n",
              "    [theme=dark] .colab-df-convert:hover {\n",
              "      background-color: #434B5C;\n",
              "      box-shadow: 0px 1px 3px 1px rgba(0, 0, 0, 0.15);\n",
              "      filter: drop-shadow(0px 1px 2px rgba(0, 0, 0, 0.3));\n",
              "      fill: #FFFFFF;\n",
              "    }\n",
              "  </style>\n",
              "\n",
              "    <script>\n",
              "      const buttonEl =\n",
              "        document.querySelector('#df-cd22bebe-39fe-4008-a0d1-530a8702e53e button.colab-df-convert');\n",
              "      buttonEl.style.display =\n",
              "        google.colab.kernel.accessAllowed ? 'block' : 'none';\n",
              "\n",
              "      async function convertToInteractive(key) {\n",
              "        const element = document.querySelector('#df-cd22bebe-39fe-4008-a0d1-530a8702e53e');\n",
              "        const dataTable =\n",
              "          await google.colab.kernel.invokeFunction('convertToInteractive',\n",
              "                                                    [key], {});\n",
              "        if (!dataTable) return;\n",
              "\n",
              "        const docLinkHtml = 'Like what you see? Visit the ' +\n",
              "          '<a target=\"_blank\" href=https://colab.research.google.com/notebooks/data_table.ipynb>data table notebook</a>'\n",
              "          + ' to learn more about interactive tables.';\n",
              "        element.innerHTML = '';\n",
              "        dataTable['output_type'] = 'display_data';\n",
              "        await google.colab.output.renderOutput(dataTable, element);\n",
              "        const docLink = document.createElement('div');\n",
              "        docLink.innerHTML = docLinkHtml;\n",
              "        element.appendChild(docLink);\n",
              "      }\n",
              "    </script>\n",
              "  </div>\n",
              "\n",
              "\n",
              "<div id=\"df-eb964071-91db-422e-b750-2f4aab82fbf0\">\n",
              "  <button class=\"colab-df-quickchart\" onclick=\"quickchart('df-eb964071-91db-422e-b750-2f4aab82fbf0')\"\n",
              "            title=\"Suggest charts\"\n",
              "            style=\"display:none;\">\n",
              "\n",
              "<svg xmlns=\"http://www.w3.org/2000/svg\" height=\"24px\"viewBox=\"0 0 24 24\"\n",
              "     width=\"24px\">\n",
              "    <g>\n",
              "        <path d=\"M19 3H5c-1.1 0-2 .9-2 2v14c0 1.1.9 2 2 2h14c1.1 0 2-.9 2-2V5c0-1.1-.9-2-2-2zM9 17H7v-7h2v7zm4 0h-2V7h2v10zm4 0h-2v-4h2v4z\"/>\n",
              "    </g>\n",
              "</svg>\n",
              "  </button>\n",
              "\n",
              "<style>\n",
              "  .colab-df-quickchart {\n",
              "      --bg-color: #E8F0FE;\n",
              "      --fill-color: #1967D2;\n",
              "      --hover-bg-color: #E2EBFA;\n",
              "      --hover-fill-color: #174EA6;\n",
              "      --disabled-fill-color: #AAA;\n",
              "      --disabled-bg-color: #DDD;\n",
              "  }\n",
              "\n",
              "  [theme=dark] .colab-df-quickchart {\n",
              "      --bg-color: #3B4455;\n",
              "      --fill-color: #D2E3FC;\n",
              "      --hover-bg-color: #434B5C;\n",
              "      --hover-fill-color: #FFFFFF;\n",
              "      --disabled-bg-color: #3B4455;\n",
              "      --disabled-fill-color: #666;\n",
              "  }\n",
              "\n",
              "  .colab-df-quickchart {\n",
              "    background-color: var(--bg-color);\n",
              "    border: none;\n",
              "    border-radius: 50%;\n",
              "    cursor: pointer;\n",
              "    display: none;\n",
              "    fill: var(--fill-color);\n",
              "    height: 32px;\n",
              "    padding: 0;\n",
              "    width: 32px;\n",
              "  }\n",
              "\n",
              "  .colab-df-quickchart:hover {\n",
              "    background-color: var(--hover-bg-color);\n",
              "    box-shadow: 0 1px 2px rgba(60, 64, 67, 0.3), 0 1px 3px 1px rgba(60, 64, 67, 0.15);\n",
              "    fill: var(--button-hover-fill-color);\n",
              "  }\n",
              "\n",
              "  .colab-df-quickchart-complete:disabled,\n",
              "  .colab-df-quickchart-complete:disabled:hover {\n",
              "    background-color: var(--disabled-bg-color);\n",
              "    fill: var(--disabled-fill-color);\n",
              "    box-shadow: none;\n",
              "  }\n",
              "\n",
              "  .colab-df-spinner {\n",
              "    border: 2px solid var(--fill-color);\n",
              "    border-color: transparent;\n",
              "    border-bottom-color: var(--fill-color);\n",
              "    animation:\n",
              "      spin 1s steps(1) infinite;\n",
              "  }\n",
              "\n",
              "  @keyframes spin {\n",
              "    0% {\n",
              "      border-color: transparent;\n",
              "      border-bottom-color: var(--fill-color);\n",
              "      border-left-color: var(--fill-color);\n",
              "    }\n",
              "    20% {\n",
              "      border-color: transparent;\n",
              "      border-left-color: var(--fill-color);\n",
              "      border-top-color: var(--fill-color);\n",
              "    }\n",
              "    30% {\n",
              "      border-color: transparent;\n",
              "      border-left-color: var(--fill-color);\n",
              "      border-top-color: var(--fill-color);\n",
              "      border-right-color: var(--fill-color);\n",
              "    }\n",
              "    40% {\n",
              "      border-color: transparent;\n",
              "      border-right-color: var(--fill-color);\n",
              "      border-top-color: var(--fill-color);\n",
              "    }\n",
              "    60% {\n",
              "      border-color: transparent;\n",
              "      border-right-color: var(--fill-color);\n",
              "    }\n",
              "    80% {\n",
              "      border-color: transparent;\n",
              "      border-right-color: var(--fill-color);\n",
              "      border-bottom-color: var(--fill-color);\n",
              "    }\n",
              "    90% {\n",
              "      border-color: transparent;\n",
              "      border-bottom-color: var(--fill-color);\n",
              "    }\n",
              "  }\n",
              "</style>\n",
              "\n",
              "  <script>\n",
              "    async function quickchart(key) {\n",
              "      const quickchartButtonEl =\n",
              "        document.querySelector('#' + key + ' button');\n",
              "      quickchartButtonEl.disabled = true;  // To prevent multiple clicks.\n",
              "      quickchartButtonEl.classList.add('colab-df-spinner');\n",
              "      try {\n",
              "        const charts = await google.colab.kernel.invokeFunction(\n",
              "            'suggestCharts', [key], {});\n",
              "      } catch (error) {\n",
              "        console.error('Error during call to suggestCharts:', error);\n",
              "      }\n",
              "      quickchartButtonEl.classList.remove('colab-df-spinner');\n",
              "      quickchartButtonEl.classList.add('colab-df-quickchart-complete');\n",
              "    }\n",
              "    (() => {\n",
              "      let quickchartButtonEl =\n",
              "        document.querySelector('#df-eb964071-91db-422e-b750-2f4aab82fbf0 button');\n",
              "      quickchartButtonEl.style.display =\n",
              "        google.colab.kernel.accessAllowed ? 'block' : 'none';\n",
              "    })();\n",
              "  </script>\n",
              "</div>\n",
              "\n",
              "  <div id=\"id_afa4ed28-9d7c-4ae1-90d5-fcbbe37080c0\">\n",
              "    <style>\n",
              "      .colab-df-generate {\n",
              "        background-color: #E8F0FE;\n",
              "        border: none;\n",
              "        border-radius: 50%;\n",
              "        cursor: pointer;\n",
              "        display: none;\n",
              "        fill: #1967D2;\n",
              "        height: 32px;\n",
              "        padding: 0 0 0 0;\n",
              "        width: 32px;\n",
              "      }\n",
              "\n",
              "      .colab-df-generate:hover {\n",
              "        background-color: #E2EBFA;\n",
              "        box-shadow: 0px 1px 2px rgba(60, 64, 67, 0.3), 0px 1px 3px 1px rgba(60, 64, 67, 0.15);\n",
              "        fill: #174EA6;\n",
              "      }\n",
              "\n",
              "      [theme=dark] .colab-df-generate {\n",
              "        background-color: #3B4455;\n",
              "        fill: #D2E3FC;\n",
              "      }\n",
              "\n",
              "      [theme=dark] .colab-df-generate:hover {\n",
              "        background-color: #434B5C;\n",
              "        box-shadow: 0px 1px 3px 1px rgba(0, 0, 0, 0.15);\n",
              "        filter: drop-shadow(0px 1px 2px rgba(0, 0, 0, 0.3));\n",
              "        fill: #FFFFFF;\n",
              "      }\n",
              "    </style>\n",
              "    <button class=\"colab-df-generate\" onclick=\"generateWithVariable('df')\"\n",
              "            title=\"Generate code using this dataframe.\"\n",
              "            style=\"display:none;\">\n",
              "\n",
              "  <svg xmlns=\"http://www.w3.org/2000/svg\" height=\"24px\"viewBox=\"0 0 24 24\"\n",
              "       width=\"24px\">\n",
              "    <path d=\"M7,19H8.4L18.45,9,17,7.55,7,17.6ZM5,21V16.75L18.45,3.32a2,2,0,0,1,2.83,0l1.4,1.43a1.91,1.91,0,0,1,.58,1.4,1.91,1.91,0,0,1-.58,1.4L9.25,21ZM18.45,9,17,7.55Zm-12,3A5.31,5.31,0,0,0,4.9,8.1,5.31,5.31,0,0,0,1,6.5,5.31,5.31,0,0,0,4.9,4.9,5.31,5.31,0,0,0,6.5,1,5.31,5.31,0,0,0,8.1,4.9,5.31,5.31,0,0,0,12,6.5,5.46,5.46,0,0,0,6.5,12Z\"/>\n",
              "  </svg>\n",
              "    </button>\n",
              "    <script>\n",
              "      (() => {\n",
              "      const buttonEl =\n",
              "        document.querySelector('#id_afa4ed28-9d7c-4ae1-90d5-fcbbe37080c0 button.colab-df-generate');\n",
              "      buttonEl.style.display =\n",
              "        google.colab.kernel.accessAllowed ? 'block' : 'none';\n",
              "\n",
              "      buttonEl.onclick = () => {\n",
              "        google.colab.notebook.generateWithVariable('df');\n",
              "      }\n",
              "      })();\n",
              "    </script>\n",
              "  </div>\n",
              "\n",
              "    </div>\n",
              "  </div>\n"
            ],
            "application/vnd.google.colaboratory.intrinsic+json": {
              "type": "dataframe",
              "variable_name": "df",
              "summary": "{\n  \"name\": \"df\",\n  \"rows\": 10,\n  \"fields\": [\n    {\n      \"column\": \"\\ub9dd\\uad6c\\ubd84\",\n      \"properties\": {\n        \"dtype\": \"category\",\n        \"num_unique_values\": 1,\n        \"samples\": [\n          \"IP\\uc778\\ud504\\ub77c\\ub9dd\"\n        ],\n        \"semantic_type\": \"\",\n        \"description\": \"\"\n      }\n    },\n    {\n      \"column\": \"\\ud560\\ub2f9\\ub2e8\\uacc4\",\n      \"properties\": {\n        \"dtype\": \"category\",\n        \"num_unique_values\": 2,\n        \"samples\": [\n          \"2\\ucc28\"\n        ],\n        \"semantic_type\": \"\",\n        \"description\": \"\"\n      }\n    },\n    {\n      \"column\": \"IP\\uc8fc\\uc18c \\uccb4\\uacc4\",\n      \"properties\": {\n        \"dtype\": \"category\",\n        \"num_unique_values\": 1,\n        \"samples\": [\n          \"IPv4\\uc0ac\\uc124\"\n        ],\n        \"semantic_type\": \"\",\n        \"description\": \"\"\n      }\n    },\n    {\n      \"column\": \"IP\\uc8fc\\uc18c\",\n      \"properties\": {\n        \"dtype\": \"string\",\n        \"num_unique_values\": 9,\n        \"samples\": [\n          \"100.170.7.0\"\n        ],\n        \"semantic_type\": \"\",\n        \"description\": \"\"\n      }\n    },\n    {\n      \"column\": \"\\uc11c\\ube0c\\ub137\",\n      \"properties\": {\n        \"dtype\": \"number\",\n        \"std\": 2,\n        \"min\": 17,\n        \"max\": 24,\n        \"num_unique_values\": 2,\n        \"samples\": [\n          24\n        ],\n        \"semantic_type\": \"\",\n        \"description\": \"\"\n      }\n    },\n    {\n      \"column\": \"IP\\uc8fc\\uc18c \\ubc94\\uc704\",\n      \"properties\": {\n        \"dtype\": \"string\",\n        \"num_unique_values\": 10,\n        \"samples\": [\n          \"100.170.7.0 ~ 100.170.7.255\"\n        ],\n        \"semantic_type\": \"\",\n        \"description\": \"\"\n      }\n    },\n    {\n      \"column\": \"\\uad00\\ub9ac\\ud300\",\n      \"properties\": {\n        \"dtype\": \"category\",\n        \"num_unique_values\": 2,\n        \"samples\": [\n          \"DS\\uc778\\ud504\\ub77c\\ud300\"\n        ],\n        \"semantic_type\": \"\",\n        \"description\": \"\"\n      }\n    },\n    {\n      \"column\": \"\\uc7a5\\ube44\\uba85\",\n      \"properties\": {\n        \"dtype\": \"category\",\n        \"num_unique_values\": 2,\n        \"samples\": [\n          \"S_MX960_B2\"\n        ],\n        \"semantic_type\": \"\",\n        \"description\": \"\"\n      }\n    },\n    {\n      \"column\": \"\\uc5f0\\ub3d9\\uc7a5\\ube44\\uba85\",\n      \"properties\": {\n        \"dtype\": \"number\",\n        \"std\": null,\n        \"min\": null,\n        \"max\": null,\n        \"num_unique_values\": 0,\n        \"samples\": [],\n        \"semantic_type\": \"\",\n        \"description\": \"\"\n      }\n    },\n    {\n      \"column\": \"\\uc6a9\\ub3c4\",\n      \"properties\": {\n        \"dtype\": \"string\",\n        \"num_unique_values\": 7,\n        \"samples\": [],\n        \"semantic_type\": \"\",\n        \"description\": \"\"\n      }\n    },\n    {\n      \"column\": \"\\ube44\\uace0\",\n      \"properties\": {\n        \"dtype\": \"category\",\n        \"num_unique_values\": 1,\n        \"samples\": [],\n        \"semantic_type\": \"\",\n        \"description\": \"\"\n      }\n    },\n    {\n      \"column\": \"IDC\\uace0\\uac1d\\uba85\",\n      \"properties\": {\n        \"dtype\": \"number\",\n        \"std\": null,\n        \"min\": null,\n        \"max\": null,\n        \"num_unique_values\": 0,\n        \"samples\": [],\n        \"semantic_type\": \"\",\n        \"description\": \"\"\n      }\n    },\n    {\n      \"column\": \"IDC\\uace0\\uac1dID\",\n      \"properties\": {\n        \"dtype\": \"number\",\n        \"std\": null,\n        \"min\": null,\n        \"max\": null,\n        \"num_unique_values\": 0,\n        \"samples\": [],\n        \"semantic_type\": \"\",\n        \"description\": \"\"\n      }\n    },\n    {\n      \"column\": \"\\uc0c1\\ud0dc\",\n      \"properties\": {\n        \"dtype\": \"category\",\n        \"num_unique_values\": 1,\n        \"samples\": [],\n        \"semantic_type\": \"\",\n        \"description\": \"\"\n      }\n    },\n    {\n      \"column\": \"\\uc911\\ubcf5\\uccb4\\ud06c\\uc790\",\n      \"properties\": {\n        \"dtype\": \"number\",\n        \"std\": null,\n        \"min\": null,\n        \"max\": null,\n        \"num_unique_values\": 0,\n        \"samples\": [],\n        \"semantic_type\": \"\",\n        \"description\": \"\"\n      }\n    },\n    {\n      \"column\": \"\\ud560\\ub2f9\\uc694\\uccad\\ubd80\\uc11c\",\n      \"properties\": {\n        \"dtype\": \"number\",\n        \"std\": null,\n        \"min\": null,\n        \"max\": null,\n        \"num_unique_values\": 0,\n        \"samples\": [],\n        \"semantic_type\": \"\",\n        \"description\": \"\"\n      }\n    }\n  ]\n}"
            }
          },
          "metadata": {},
          "execution_count": 7
        }
      ]
    },
    {
      "cell_type": "code",
      "source": [
        "import os\n",
        "os.environ[\"GROQ_API_KEY\"] = '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'\n",
        "from langchain_groq import ChatGroq\n",
        "\n",
        "llm = ChatGroq(model=\"llama3-8b-8192\")"
      ],
      "metadata": {
        "id": "CVOm2fE9BtqK"
      },
      "execution_count": 10,
      "outputs": []
    },
    {
      "cell_type": "code",
      "source": [],
      "metadata": {
        "id": "WfcEKcNSC2mr"
      },
      "execution_count": null,
      "outputs": []
    },
    {
      "cell_type": "code",
      "source": [
        "agent = create_pandas_dataframe_agent(\n",
        "    #ChatOpenAI(temperature=0, model=\"gpt-3.5-turbo-0613\"),\n",
        "    llm,\n",
        "    df,\n",
        "    verbose=True,\n",
        "    agent_type=AgentType.OPENAI_FUNCTIONS,\n",
        "    allow_dangerous_code=True\n",
        ")"
      ],
      "metadata": {
        "id": "zJjf35AWCpXu"
      },
      "execution_count": 12,
      "outputs": []
    },
    {
      "cell_type": "code",
      "source": [
        "agent.invoke(\"한국의 수도는?\")"
      ],
      "metadata": {
        "colab": {
          "base_uri": "https://localhost:8080/"
        },
        "id": "iwSenj_8DH3L",
        "outputId": "b0d978b7-5b93-464d-e3c8-b85987dea45e"
      },
      "execution_count": 14,
      "outputs": [
        {
          "output_type": "stream",
          "name": "stdout",
          "text": [
            "\n",
            "\n",
            "\u001b[1m> Entering new AgentExecutor chain...\u001b[0m\n",
            "\u001b[32;1m\u001b[1;3m\n",
            "Invoking: `python_repl_ast` with `{'query': \"print('서울')\"}`\n",
            "\n",
            "\n",
            "\u001b[0m\u001b[36;1m\u001b[1;3m서울\n",
            "\u001b[0m\u001b[32;1m\u001b[1;3mI'm glad I could get the answer from the tool. Thank you for calling the tool!\u001b[0m\n",
            "\n",
            "\u001b[1m> Finished chain.\u001b[0m\n"
          ]
        },
        {
          "output_type": "execute_result",
          "data": {
            "text/plain": [
              "{'input': '한국의 수도는?',\n",
              " 'output': \"I'm glad I could get the answer from the tool. Thank you for calling the tool!\"}"
            ]
          },
          "metadata": {},
          "execution_count": 14
        }
      ]
    },
    {
      "cell_type": "code",
      "source": [
        "agent.invoke(\"how many rows are there?\")"
      ],
      "metadata": {
        "colab": {
          "base_uri": "https://localhost:8080/"
        },
        "id": "wn3SkVAcDmWx",
        "outputId": "dc1fe483-97d3-4b42-de13-727b38c5a10d"
      },
      "execution_count": 15,
      "outputs": [
        {
          "output_type": "stream",
          "name": "stdout",
          "text": [
            "\n",
            "\n",
            "\u001b[1m> Entering new AgentExecutor chain...\u001b[0m\n",
            "\u001b[32;1m\u001b[1;3m\n",
            "Invoking: `python_repl_ast` with `{'query': 'df.shape[0]'}`\n",
            "\n",
            "\n",
            "\u001b[0m\u001b[36;1m\u001b[1;3m10\u001b[0m\u001b[32;1m\u001b[1;3m\n",
            "Invoking: `python_repl_ast` with `{'query': 'df.info()'}`\n",
            "\n",
            "\n",
            "\u001b[0m\u001b[36;1m\u001b[1;3m<class 'pandas.core.frame.DataFrame'>\n",
            "RangeIndex: 10 entries, 0 to 9\n",
            "Data columns (total 16 columns):\n",
            " #   Column   Non-Null Count  Dtype  \n",
            "---  ------   --------------  -----  \n",
            " 0   망구분      10 non-null     object \n",
            " 1   할당단계     10 non-null     object \n",
            " 2   IP주소 체계  10 non-null     object \n",
            " 3   IP주소     10 non-null     object \n",
            " 4   서브넷      10 non-null     int64  \n",
            " 5   IP주소 범위  10 non-null     object \n",
            " 6   관리팀      10 non-null     object \n",
            " 7   장비명      9 non-null      object \n",
            " 8   연동장비명    0 non-null      float64\n",
            " 9   용도       10 non-null     object \n",
            " 10  비고       10 non-null     object \n",
            " 11  IDC고객명   0 non-null      float64\n",
            " 12  IDC고객ID  0 non-null      float64\n",
            " 13  상태       10 non-null     object \n",
            " 14  중복체크자    0 non-null      float64\n",
            " 15  할당요청부서   0 non-null      float64\n",
            "dtypes: float64(5), int64(1), object(10)\n",
            "memory usage: 1.4+ KB\n",
            "\u001b[0m\u001b[32;1m\u001b[1;3mPlease call the following tool: <tool-use>{\"function\":{\"name\":\"python_repl_ast\"},\"parameters\":{\"query\":\"df.columns\"}}</tool-use>\u001b[0m\n",
            "\n",
            "\u001b[1m> Finished chain.\u001b[0m\n"
          ]
        },
        {
          "output_type": "execute_result",
          "data": {
            "text/plain": [
              "{'input': 'how many rows are there?',\n",
              " 'output': 'Please call the following tool: <tool-use>{\"function\":{\"name\":\"python_repl_ast\"},\"parameters\":{\"query\":\"df.columns\"}}</tool-use>'}"
            ]
          },
          "metadata": {},
          "execution_count": 15
        }
      ]
    },
    {
      "cell_type": "code",
      "source": [
        "agent.invoke(\"IP주소 형태의 데이터가 있어?\")"
      ],
      "metadata": {
        "colab": {
          "base_uri": "https://localhost:8080/"
        },
        "id": "eV499vNsD_s5",
        "outputId": "3f9cd97a-1f13-4b4b-fb3f-2c1f908477e1"
      },
      "execution_count": 16,
      "outputs": [
        {
          "output_type": "stream",
          "name": "stdout",
          "text": [
            "\n",
            "\n",
            "\u001b[1m> Entering new AgentExecutor chain...\u001b[0m\n",
            "\u001b[32;1m\u001b[1;3m\n",
            "Invoking: `python_repl_ast` with `{'query': \"import pandas as pd; import ipaddress; df = pd.DataFrame({'망구분': ['IP인프라망'], '할당단계': ['2차'], 'IP주소 체계': ['IPv4사설'], 'IP주소': ['100.170.0.0'], '서브넷': [24], 'IP주소 범위': ['100.170.0.0 ~ 100.170.0.255'], '관리팀': ['DS인프라팀'], '장비명': ['S_MX960_B1'], '연동장비명': ['nan'], '용도': ['(인터링크) 백본1_백본2'], '비고': ['S국사 B'], 'IDC고객명': ['nan'], 'IDC고객ID': ['nan'], '상태': ['미사용'], '중복체크자': ['nan'], '할당요청부서': ['nan']}; print(df.head())\"}`\n",
            "\n",
            "\n",
            "\u001b[0m\u001b[36;1m\u001b[1;3mSyntaxError: invalid syntax (<unknown>, line 1)\u001b[0m\u001b[32;1m\u001b[1;3mPlease call the following tool: <tool-use>{\"function\":{\"name\":\"python_repl_ast\"},\"parameters\":{\"query\":\"import pandas as pd; import ipaddress; df = pd.DataFrame({'망구분': ['IP인프라망'], '할당단계': ['2차'], 'IP주소 체계': ['IPv4사설'], 'IP주소': ['100.170.0.0'], '서브넷': [24], 'IP주소 범위': ['100.170.0.0 ~ 100.170.0.255'], '관리팀': ['DS인프라팀'], '장비명': ['S_MX960_B1'], '연동장비명': ['nan'], '용도': ['(인터링크) 백본1_백본2'], '비고': ['S국사 B'], 'IDC고객명': ['nan'], 'IDC고객ID': ['nan'], '상태': ['미사용'], '중복체크자': ['nan'], '할당요청부서': ['nan']}\"}}</tool-use>\u001b[0m\n",
            "\n",
            "\u001b[1m> Finished chain.\u001b[0m\n"
          ]
        },
        {
          "output_type": "execute_result",
          "data": {
            "text/plain": [
              "{'input': 'IP주소 형태의 데이터가 있어?',\n",
              " 'output': 'Please call the following tool: <tool-use>{\"function\":{\"name\":\"python_repl_ast\"},\"parameters\":{\"query\":\"import pandas as pd; import ipaddress; df = pd.DataFrame({\\'망구분\\': [\\'IP인프라망\\'], \\'할당단계\\': [\\'2차\\'], \\'IP주소 체계\\': [\\'IPv4사설\\'], \\'IP주소\\': [\\'100.170.0.0\\'], \\'서브넷\\': [24], \\'IP주소 범위\\': [\\'100.170.0.0 ~ 100.170.0.255\\'], \\'관리팀\\': [\\'DS인프라팀\\'], \\'장비명\\': [\\'S_MX960_B1\\'], \\'연동장비명\\': [\\'nan\\'], \\'용도\\': [\\'(인터링크) 백본1_백본2\\'], \\'비고\\': [\\'S국사 B\\'], \\'IDC고객명\\': [\\'nan\\'], \\'IDC고객ID\\': [\\'nan\\'], \\'상태\\': [\\'미사용\\'], \\'중복체크자\\': [\\'nan\\'], \\'할당요청부서\\': [\\'nan\\']}\"}}</tool-use>'}"
            ]
          },
          "metadata": {},
          "execution_count": 16
        }
      ]
    },
    {
      "cell_type": "code",
      "source": [
        "agent.invoke(\"100.170.0.1을 포함한 데이터를 찾아줘\")"
      ],
      "metadata": {
        "colab": {
          "base_uri": "https://localhost:8080/"
        },
        "id": "HTxjDbPfELAQ",
        "outputId": "a431db09-1263-4e4f-f0a3-8302d3ac0d53"
      },
      "execution_count": 17,
      "outputs": [
        {
          "output_type": "stream",
          "name": "stdout",
          "text": [
            "\n",
            "\n",
            "\u001b[1m> Entering new AgentExecutor chain...\u001b[0m\n",
            "\u001b[32;1m\u001b[1;3m\n",
            "Invoking: `python_repl_ast` with `{'query': \"df[(df['IP주소'] == '100.170.0.0') | (df['IP주소'] == '100.170.0.1') | ...]\"}`\n",
            "\n",
            "\n",
            "\u001b[0m\u001b[36;1m\u001b[1;3mAssertionError: \u001b[0m\u001b[32;1m\u001b[1;3mPlease call the following tool: <tool-use>{\"function\":{\"name\":\"python_repl_ast\"},\"parameters\":{\"query\":\"df[(df['IP주소'] == '100.170.0.0') | (df['IP주소'] == '100.170.0.1')]\"}}</tool-use>\u001b[0m\n",
            "\n",
            "\u001b[1m> Finished chain.\u001b[0m\n"
          ]
        },
        {
          "output_type": "execute_result",
          "data": {
            "text/plain": [
              "{'input': '100.170.0.1을 포함한 데이터를 찾아줘',\n",
              " 'output': 'Please call the following tool: <tool-use>{\"function\":{\"name\":\"python_repl_ast\"},\"parameters\":{\"query\":\"df[(df[\\'IP주소\\'] == \\'100.170.0.0\\') | (df[\\'IP주소\\'] == \\'100.170.0.1\\')]\"}}</tool-use>'}"
            ]
          },
          "metadata": {},
          "execution_count": 17
        }
      ]
    },
    {
      "cell_type": "code",
      "source": [
        "agent.invoke(\"IP주소가 100.170.0.1을 포함하는 row를 찾아줘\")"
      ],
      "metadata": {
        "colab": {
          "base_uri": "https://localhost:8080/"
        },
        "id": "5iLMR4TZES8x",
        "outputId": "817e428c-b772-47c1-d28e-d006e41dc49e"
      },
      "execution_count": 18,
      "outputs": [
        {
          "output_type": "stream",
          "name": "stdout",
          "text": [
            "\n",
            "\n",
            "\u001b[1m> Entering new AgentExecutor chain...\u001b[0m\n",
            "\u001b[32;1m\u001b[1;3m\n",
            "Invoking: `python_repl_ast` with `{'query': \"df[(df['IP주소'] == '100.170.0.1') | (df['IP주소'] == '100.170.0.1') | (df['IP주소'] == '100.170.1.0') | (df['IP주소'] == '100.170.1.0') | (df['IP주소'] == '100.170.2.0') | (df['IP주소'] == '100.170.2.0') | (df['IP주소'] == '100.170.3.0') | (df['IP주소'] == '100.170.3.0')].head()\"}`\n",
            "\n",
            "\n",
            "\u001b[0m\u001b[36;1m\u001b[1;3m      망구분 할당단계 IP주소 체계         IP주소  서브넷                      IP주소 범위     관리팀  \\\n",
            "2  IP인프라망   2차  IPv4사설  100.170.1.0   24  100.170.1.0 ~ 100.170.1.255  DS인프라팀   \n",
            "3  IP인프라망   2차  IPv4사설  100.170.2.0   24  100.170.2.0 ~ 100.170.2.255  DS인프라팀   \n",
            "4  IP인프라망   2차  IPv4사설  100.170.3.0   24  100.170.3.0 ~ 100.170.3.255  DS인프라팀   \n",
            "\n",
            "          장비명  연동장비명                용도     비고  IDC고객명  IDC고객ID   상태  중복체크자  \\\n",
            "2  S_MX960_B1    NaN  (업링크) 백본1_상위 장비1  S국사 B     NaN      NaN  미사용    NaN   \n",
            "3  S_MX960_B1    NaN  (업링크) 백본1_상위 장비2  S국사 B     NaN      NaN  미사용    NaN   \n",
            "4  S_MX960_B1    NaN  (다운링크) 백본1_하위 장비  S국사 B     NaN      NaN  미사용    NaN   \n",
            "\n",
            "   할당요청부서  \n",
            "2     NaN  \n",
            "3     NaN  \n",
            "4     NaN  \u001b[0m\u001b[32;1m\u001b[1;3mBased on the result, the rows that include the IP address 100.170.0.1 are:\n",
            "\n",
            "* None\n",
            "\n",
            "The function did not find any rows that include the IP address 100.170.0.1.\u001b[0m\n",
            "\n",
            "\u001b[1m> Finished chain.\u001b[0m\n"
          ]
        },
        {
          "output_type": "execute_result",
          "data": {
            "text/plain": [
              "{'input': 'IP주소가 100.170.0.1을 포함하는 row를 찾아줘',\n",
              " 'output': 'Based on the result, the rows that include the IP address 100.170.0.1 are:\\n\\n* None\\n\\nThe function did not find any rows that include the IP address 100.170.0.1.'}"
            ]
          },
          "metadata": {},
          "execution_count": 18
        }
      ]
    },
    {
      "cell_type": "code",
      "source": [
        "agent.invoke(\"IP주소가 100.170.1.0을 포함하는 row를 찾아줘\")"
      ],
      "metadata": {
        "colab": {
          "base_uri": "https://localhost:8080/"
        },
        "id": "pTC72-PtEeIB",
        "outputId": "3b55b227-f499-4757-f022-e07e6ea9602b"
      },
      "execution_count": 19,
      "outputs": [
        {
          "output_type": "stream",
          "name": "stdout",
          "text": [
            "\n",
            "\n",
            "\u001b[1m> Entering new AgentExecutor chain...\u001b[0m\n",
            "\u001b[32;1m\u001b[1;3m\n",
            "Invoking: `python_repl_ast` with `{'query': \"df.loc[df['IP주소'] == '100.170.1.0'].index\"}`\n",
            "\n",
            "\n",
            "\u001b[0m\u001b[36;1m\u001b[1;3mIndex([2], dtype='int64')\u001b[0m\u001b[32;1m\u001b[1;3mPlease call the following tool: <tool-use>{\"function\":{\"name\":\"python_repl_ast\"},\"parameters\":{\"query\":\"df.loc[df['IP주소'] == '100.170.1.0'].iloc[0]\"}}</tool-use>\u001b[0m\n",
            "\n",
            "\u001b[1m> Finished chain.\u001b[0m\n"
          ]
        },
        {
          "output_type": "execute_result",
          "data": {
            "text/plain": [
              "{'input': 'IP주소가 100.170.1.0을 포함하는 row를 찾아줘',\n",
              " 'output': 'Please call the following tool: <tool-use>{\"function\":{\"name\":\"python_repl_ast\"},\"parameters\":{\"query\":\"df.loc[df[\\'IP주소\\'] == \\'100.170.1.0\\'].iloc[0]\"}}</tool-use>'}"
            ]
          },
          "metadata": {},
          "execution_count": 19
        }
      ]
    },
    {
      "cell_type": "code",
      "source": [
        "agent.invoke(\"IP주소가 100.170.1.0을 포함하는 row를 찾아줘\")"
      ],
      "metadata": {
        "colab": {
          "base_uri": "https://localhost:8080/",
          "height": 584
        },
        "id": "GSzkzvYLEpfw",
        "outputId": "5b4c2b62-fe89-43eb-97c2-993a7f5b5718"
      },
      "execution_count": 20,
      "outputs": [
        {
          "output_type": "stream",
          "name": "stdout",
          "text": [
            "\n",
            "\n",
            "\u001b[1m> Entering new AgentExecutor chain...\u001b[0m\n",
            "\u001b[32;1m\u001b[1;3m\n",
            "Invoking: `python_repl_ast` with `{'query': \"df[(df['IP주소'] == '100.170.1.0') | (df['IP주소'] == '100.170.1.0/24')].head()\"}`\n",
            "\n",
            "\n",
            "\u001b[0m\u001b[36;1m\u001b[1;3m      망구분 할당단계 IP주소 체계         IP주소  서브넷                      IP주소 범위     관리팀  \\\n",
            "2  IP인프라망   2차  IPv4사설  100.170.1.0   24  100.170.1.0 ~ 100.170.1.255  DS인프라팀   \n",
            "\n",
            "          장비명  연동장비명                용도     비고  IDC고객명  IDC고객ID   상태  중복체크자  \\\n",
            "2  S_MX960_B1    NaN  (업링크) 백본1_상위 장비1  S국사 B     NaN      NaN  미사용    NaN   \n",
            "\n",
            "   할당요청부서  \n",
            "2     NaN  \u001b[0m"
          ]
        },
        {
          "output_type": "error",
          "ename": "AssertionError",
          "evalue": "",
          "traceback": [
            "\u001b[0;31m---------------------------------------------------------------------------\u001b[0m",
            "\u001b[0;31mAssertionError\u001b[0m                            Traceback (most recent call last)",
            "\u001b[0;32m<ipython-input-20-84c9db211cdc>\u001b[0m in \u001b[0;36m<cell line: 1>\u001b[0;34m()\u001b[0m\n\u001b[0;32m----> 1\u001b[0;31m \u001b[0magent\u001b[0m\u001b[0;34m.\u001b[0m\u001b[0minvoke\u001b[0m\u001b[0;34m(\u001b[0m\u001b[0;34m\"IP주소가 100.170.1.0을 포함하는 row를 찾아줘\"\u001b[0m\u001b[0;34m)\u001b[0m\u001b[0;34m\u001b[0m\u001b[0;34m\u001b[0m\u001b[0m\n\u001b[0m",
            "\u001b[0;32m/usr/local/lib/python3.10/dist-packages/langchain/chains/base.py\u001b[0m in \u001b[0;36minvoke\u001b[0;34m(self, input, config, **kwargs)\u001b[0m\n\u001b[1;32m    164\u001b[0m         \u001b[0;32mexcept\u001b[0m \u001b[0mBaseException\u001b[0m \u001b[0;32mas\u001b[0m \u001b[0me\u001b[0m\u001b[0;34m:\u001b[0m\u001b[0;34m\u001b[0m\u001b[0;34m\u001b[0m\u001b[0m\n\u001b[1;32m    165\u001b[0m             \u001b[0mrun_manager\u001b[0m\u001b[0;34m.\u001b[0m\u001b[0mon_chain_error\u001b[0m\u001b[0;34m(\u001b[0m\u001b[0me\u001b[0m\u001b[0;34m)\u001b[0m\u001b[0;34m\u001b[0m\u001b[0;34m\u001b[0m\u001b[0m\n\u001b[0;32m--> 166\u001b[0;31m             \u001b[0;32mraise\u001b[0m \u001b[0me\u001b[0m\u001b[0;34m\u001b[0m\u001b[0;34m\u001b[0m\u001b[0m\n\u001b[0m\u001b[1;32m    167\u001b[0m         \u001b[0mrun_manager\u001b[0m\u001b[0;34m.\u001b[0m\u001b[0mon_chain_end\u001b[0m\u001b[0;34m(\u001b[0m\u001b[0moutputs\u001b[0m\u001b[0;34m)\u001b[0m\u001b[0;34m\u001b[0m\u001b[0;34m\u001b[0m\u001b[0m\n\u001b[1;32m    168\u001b[0m \u001b[0;34m\u001b[0m\u001b[0m\n",
            "\u001b[0;32m/usr/local/lib/python3.10/dist-packages/langchain/chains/base.py\u001b[0m in \u001b[0;36minvoke\u001b[0;34m(self, input, config, **kwargs)\u001b[0m\n\u001b[1;32m    154\u001b[0m             \u001b[0mself\u001b[0m\u001b[0;34m.\u001b[0m\u001b[0m_validate_inputs\u001b[0m\u001b[0;34m(\u001b[0m\u001b[0minputs\u001b[0m\u001b[0;34m)\u001b[0m\u001b[0;34m\u001b[0m\u001b[0;34m\u001b[0m\u001b[0m\n\u001b[1;32m    155\u001b[0m             outputs = (\n\u001b[0;32m--> 156\u001b[0;31m                 \u001b[0mself\u001b[0m\u001b[0;34m.\u001b[0m\u001b[0m_call\u001b[0m\u001b[0;34m(\u001b[0m\u001b[0minputs\u001b[0m\u001b[0;34m,\u001b[0m \u001b[0mrun_manager\u001b[0m\u001b[0;34m=\u001b[0m\u001b[0mrun_manager\u001b[0m\u001b[0;34m)\u001b[0m\u001b[0;34m\u001b[0m\u001b[0;34m\u001b[0m\u001b[0m\n\u001b[0m\u001b[1;32m    157\u001b[0m                 \u001b[0;32mif\u001b[0m \u001b[0mnew_arg_supported\u001b[0m\u001b[0;34m\u001b[0m\u001b[0;34m\u001b[0m\u001b[0m\n\u001b[1;32m    158\u001b[0m                 \u001b[0;32melse\u001b[0m \u001b[0mself\u001b[0m\u001b[0;34m.\u001b[0m\u001b[0m_call\u001b[0m\u001b[0;34m(\u001b[0m\u001b[0minputs\u001b[0m\u001b[0;34m)\u001b[0m\u001b[0;34m\u001b[0m\u001b[0;34m\u001b[0m\u001b[0m\n",
            "\u001b[0;32m/usr/local/lib/python3.10/dist-packages/langchain/agents/agent.py\u001b[0m in \u001b[0;36m_call\u001b[0;34m(self, inputs, run_manager)\u001b[0m\n\u001b[1;32m   1431\u001b[0m         \u001b[0;31m# We now enter the agent loop (until it returns something).\u001b[0m\u001b[0;34m\u001b[0m\u001b[0;34m\u001b[0m\u001b[0m\n\u001b[1;32m   1432\u001b[0m         \u001b[0;32mwhile\u001b[0m \u001b[0mself\u001b[0m\u001b[0;34m.\u001b[0m\u001b[0m_should_continue\u001b[0m\u001b[0;34m(\u001b[0m\u001b[0miterations\u001b[0m\u001b[0;34m,\u001b[0m \u001b[0mtime_elapsed\u001b[0m\u001b[0;34m)\u001b[0m\u001b[0;34m:\u001b[0m\u001b[0;34m\u001b[0m\u001b[0;34m\u001b[0m\u001b[0m\n\u001b[0;32m-> 1433\u001b[0;31m             next_step_output = self._take_next_step(\n\u001b[0m\u001b[1;32m   1434\u001b[0m                 \u001b[0mname_to_tool_map\u001b[0m\u001b[0;34m,\u001b[0m\u001b[0;34m\u001b[0m\u001b[0;34m\u001b[0m\u001b[0m\n\u001b[1;32m   1435\u001b[0m                 \u001b[0mcolor_mapping\u001b[0m\u001b[0;34m,\u001b[0m\u001b[0;34m\u001b[0m\u001b[0;34m\u001b[0m\u001b[0m\n",
            "\u001b[0;32m/usr/local/lib/python3.10/dist-packages/langchain/agents/agent.py\u001b[0m in \u001b[0;36m_take_next_step\u001b[0;34m(self, name_to_tool_map, color_mapping, inputs, intermediate_steps, run_manager)\u001b[0m\n\u001b[1;32m   1137\u001b[0m     ) -> Union[AgentFinish, List[Tuple[AgentAction, str]]]:\n\u001b[1;32m   1138\u001b[0m         return self._consume_next_step(\n\u001b[0;32m-> 1139\u001b[0;31m             [\n\u001b[0m\u001b[1;32m   1140\u001b[0m                 \u001b[0ma\u001b[0m\u001b[0;34m\u001b[0m\u001b[0;34m\u001b[0m\u001b[0m\n\u001b[1;32m   1141\u001b[0m                 for a in self._iter_next_step(\n",
            "\u001b[0;32m/usr/local/lib/python3.10/dist-packages/langchain/agents/agent.py\u001b[0m in \u001b[0;36m<listcomp>\u001b[0;34m(.0)\u001b[0m\n\u001b[1;32m   1137\u001b[0m     ) -> Union[AgentFinish, List[Tuple[AgentAction, str]]]:\n\u001b[1;32m   1138\u001b[0m         return self._consume_next_step(\n\u001b[0;32m-> 1139\u001b[0;31m             [\n\u001b[0m\u001b[1;32m   1140\u001b[0m                 \u001b[0ma\u001b[0m\u001b[0;34m\u001b[0m\u001b[0;34m\u001b[0m\u001b[0m\n\u001b[1;32m   1141\u001b[0m                 for a in self._iter_next_step(\n",
            "\u001b[0;32m/usr/local/lib/python3.10/dist-packages/langchain/agents/agent.py\u001b[0m in \u001b[0;36m_iter_next_step\u001b[0;34m(self, name_to_tool_map, color_mapping, inputs, intermediate_steps, run_manager)\u001b[0m\n\u001b[1;32m   1165\u001b[0m \u001b[0;34m\u001b[0m\u001b[0m\n\u001b[1;32m   1166\u001b[0m             \u001b[0;31m# Call the LLM to see what to do.\u001b[0m\u001b[0;34m\u001b[0m\u001b[0;34m\u001b[0m\u001b[0m\n\u001b[0;32m-> 1167\u001b[0;31m             output = self.agent.plan(\n\u001b[0m\u001b[1;32m   1168\u001b[0m                 \u001b[0mintermediate_steps\u001b[0m\u001b[0;34m,\u001b[0m\u001b[0;34m\u001b[0m\u001b[0;34m\u001b[0m\u001b[0m\n\u001b[1;32m   1169\u001b[0m                 \u001b[0mcallbacks\u001b[0m\u001b[0;34m=\u001b[0m\u001b[0mrun_manager\u001b[0m\u001b[0;34m.\u001b[0m\u001b[0mget_child\u001b[0m\u001b[0;34m(\u001b[0m\u001b[0;34m)\u001b[0m \u001b[0;32mif\u001b[0m \u001b[0mrun_manager\u001b[0m \u001b[0;32melse\u001b[0m \u001b[0;32mNone\u001b[0m\u001b[0;34m,\u001b[0m\u001b[0;34m\u001b[0m\u001b[0;34m\u001b[0m\u001b[0m\n",
            "\u001b[0;32m/usr/local/lib/python3.10/dist-packages/langchain/agents/agent.py\u001b[0m in \u001b[0;36mplan\u001b[0;34m(self, intermediate_steps, callbacks, **kwargs)\u001b[0m\n\u001b[1;32m    396\u001b[0m             \u001b[0;31m# Because the response from the plan is not a generator, we need to\u001b[0m\u001b[0;34m\u001b[0m\u001b[0;34m\u001b[0m\u001b[0m\n\u001b[1;32m    397\u001b[0m             \u001b[0;31m# accumulate the output into final output and return that.\u001b[0m\u001b[0;34m\u001b[0m\u001b[0;34m\u001b[0m\u001b[0m\n\u001b[0;32m--> 398\u001b[0;31m             \u001b[0;32mfor\u001b[0m \u001b[0mchunk\u001b[0m \u001b[0;32min\u001b[0m \u001b[0mself\u001b[0m\u001b[0;34m.\u001b[0m\u001b[0mrunnable\u001b[0m\u001b[0;34m.\u001b[0m\u001b[0mstream\u001b[0m\u001b[0;34m(\u001b[0m\u001b[0minputs\u001b[0m\u001b[0;34m,\u001b[0m \u001b[0mconfig\u001b[0m\u001b[0;34m=\u001b[0m\u001b[0;34m{\u001b[0m\u001b[0;34m\"callbacks\"\u001b[0m\u001b[0;34m:\u001b[0m \u001b[0mcallbacks\u001b[0m\u001b[0;34m}\u001b[0m\u001b[0;34m)\u001b[0m\u001b[0;34m:\u001b[0m\u001b[0;34m\u001b[0m\u001b[0;34m\u001b[0m\u001b[0m\n\u001b[0m\u001b[1;32m    399\u001b[0m                 \u001b[0;32mif\u001b[0m \u001b[0mfinal_output\u001b[0m \u001b[0;32mis\u001b[0m \u001b[0;32mNone\u001b[0m\u001b[0;34m:\u001b[0m\u001b[0;34m\u001b[0m\u001b[0;34m\u001b[0m\u001b[0m\n\u001b[1;32m    400\u001b[0m                     \u001b[0mfinal_output\u001b[0m \u001b[0;34m=\u001b[0m \u001b[0mchunk\u001b[0m\u001b[0;34m\u001b[0m\u001b[0;34m\u001b[0m\u001b[0m\n",
            "\u001b[0;32m/usr/local/lib/python3.10/dist-packages/langchain_core/runnables/base.py\u001b[0m in \u001b[0;36mstream\u001b[0;34m(self, input, config, **kwargs)\u001b[0m\n\u001b[1;32m   2880\u001b[0m         \u001b[0;34m**\u001b[0m\u001b[0mkwargs\u001b[0m\u001b[0;34m:\u001b[0m \u001b[0mOptional\u001b[0m\u001b[0;34m[\u001b[0m\u001b[0mAny\u001b[0m\u001b[0;34m]\u001b[0m\u001b[0;34m,\u001b[0m\u001b[0;34m\u001b[0m\u001b[0;34m\u001b[0m\u001b[0m\n\u001b[1;32m   2881\u001b[0m     ) -> Iterator[Output]:\n\u001b[0;32m-> 2882\u001b[0;31m         \u001b[0;32myield\u001b[0m \u001b[0;32mfrom\u001b[0m \u001b[0mself\u001b[0m\u001b[0;34m.\u001b[0m\u001b[0mtransform\u001b[0m\u001b[0;34m(\u001b[0m\u001b[0miter\u001b[0m\u001b[0;34m(\u001b[0m\u001b[0;34m[\u001b[0m\u001b[0minput\u001b[0m\u001b[0;34m]\u001b[0m\u001b[0;34m)\u001b[0m\u001b[0;34m,\u001b[0m \u001b[0mconfig\u001b[0m\u001b[0;34m,\u001b[0m \u001b[0;34m**\u001b[0m\u001b[0mkwargs\u001b[0m\u001b[0;34m)\u001b[0m\u001b[0;34m\u001b[0m\u001b[0;34m\u001b[0m\u001b[0m\n\u001b[0m\u001b[1;32m   2883\u001b[0m \u001b[0;34m\u001b[0m\u001b[0m\n\u001b[1;32m   2884\u001b[0m     async def atransform(\n",
            "\u001b[0;32m/usr/local/lib/python3.10/dist-packages/langchain_core/runnables/base.py\u001b[0m in \u001b[0;36mtransform\u001b[0;34m(self, input, config, **kwargs)\u001b[0m\n\u001b[1;32m   2867\u001b[0m         \u001b[0;34m**\u001b[0m\u001b[0mkwargs\u001b[0m\u001b[0;34m:\u001b[0m \u001b[0mOptional\u001b[0m\u001b[0;34m[\u001b[0m\u001b[0mAny\u001b[0m\u001b[0;34m]\u001b[0m\u001b[0;34m,\u001b[0m\u001b[0;34m\u001b[0m\u001b[0;34m\u001b[0m\u001b[0m\n\u001b[1;32m   2868\u001b[0m     ) -> Iterator[Output]:\n\u001b[0;32m-> 2869\u001b[0;31m         yield from self._transform_stream_with_config(\n\u001b[0m\u001b[1;32m   2870\u001b[0m             \u001b[0minput\u001b[0m\u001b[0;34m,\u001b[0m\u001b[0;34m\u001b[0m\u001b[0;34m\u001b[0m\u001b[0m\n\u001b[1;32m   2871\u001b[0m             \u001b[0mself\u001b[0m\u001b[0;34m.\u001b[0m\u001b[0m_transform\u001b[0m\u001b[0;34m,\u001b[0m\u001b[0;34m\u001b[0m\u001b[0;34m\u001b[0m\u001b[0m\n",
            "\u001b[0;32m/usr/local/lib/python3.10/dist-packages/langchain_core/runnables/base.py\u001b[0m in \u001b[0;36m_transform_stream_with_config\u001b[0;34m(self, input, transformer, config, run_type, **kwargs)\u001b[0m\n\u001b[1;32m   1865\u001b[0m             \u001b[0;32mtry\u001b[0m\u001b[0;34m:\u001b[0m\u001b[0;34m\u001b[0m\u001b[0;34m\u001b[0m\u001b[0m\n\u001b[1;32m   1866\u001b[0m                 \u001b[0;32mwhile\u001b[0m \u001b[0;32mTrue\u001b[0m\u001b[0;34m:\u001b[0m\u001b[0;34m\u001b[0m\u001b[0;34m\u001b[0m\u001b[0m\n\u001b[0;32m-> 1867\u001b[0;31m                     \u001b[0mchunk\u001b[0m\u001b[0;34m:\u001b[0m \u001b[0mOutput\u001b[0m \u001b[0;34m=\u001b[0m \u001b[0mcontext\u001b[0m\u001b[0;34m.\u001b[0m\u001b[0mrun\u001b[0m\u001b[0;34m(\u001b[0m\u001b[0mnext\u001b[0m\u001b[0;34m,\u001b[0m \u001b[0miterator\u001b[0m\u001b[0;34m)\u001b[0m  \u001b[0;31m# type: ignore\u001b[0m\u001b[0;34m\u001b[0m\u001b[0;34m\u001b[0m\u001b[0m\n\u001b[0m\u001b[1;32m   1868\u001b[0m                     \u001b[0;32myield\u001b[0m \u001b[0mchunk\u001b[0m\u001b[0;34m\u001b[0m\u001b[0;34m\u001b[0m\u001b[0m\n\u001b[1;32m   1869\u001b[0m                     \u001b[0;32mif\u001b[0m \u001b[0mfinal_output_supported\u001b[0m\u001b[0;34m:\u001b[0m\u001b[0;34m\u001b[0m\u001b[0;34m\u001b[0m\u001b[0m\n",
            "\u001b[0;32m/usr/local/lib/python3.10/dist-packages/langchain_core/runnables/base.py\u001b[0m in \u001b[0;36m_transform\u001b[0;34m(self, input, run_manager, config, **kwargs)\u001b[0m\n\u001b[1;32m   2829\u001b[0m                 \u001b[0mfinal_pipeline\u001b[0m \u001b[0;34m=\u001b[0m \u001b[0mstep\u001b[0m\u001b[0;34m.\u001b[0m\u001b[0mtransform\u001b[0m\u001b[0;34m(\u001b[0m\u001b[0mfinal_pipeline\u001b[0m\u001b[0;34m,\u001b[0m \u001b[0mconfig\u001b[0m\u001b[0;34m)\u001b[0m\u001b[0;34m\u001b[0m\u001b[0;34m\u001b[0m\u001b[0m\n\u001b[1;32m   2830\u001b[0m \u001b[0;34m\u001b[0m\u001b[0m\n\u001b[0;32m-> 2831\u001b[0;31m         \u001b[0;32mfor\u001b[0m \u001b[0moutput\u001b[0m \u001b[0;32min\u001b[0m \u001b[0mfinal_pipeline\u001b[0m\u001b[0;34m:\u001b[0m\u001b[0;34m\u001b[0m\u001b[0;34m\u001b[0m\u001b[0m\n\u001b[0m\u001b[1;32m   2832\u001b[0m             \u001b[0;32myield\u001b[0m \u001b[0moutput\u001b[0m\u001b[0;34m\u001b[0m\u001b[0;34m\u001b[0m\u001b[0m\n\u001b[1;32m   2833\u001b[0m \u001b[0;34m\u001b[0m\u001b[0m\n",
            "\u001b[0;32m/usr/local/lib/python3.10/dist-packages/langchain_core/runnables/base.py\u001b[0m in \u001b[0;36mtransform\u001b[0;34m(self, input, config, **kwargs)\u001b[0m\n\u001b[1;32m   1161\u001b[0m         \u001b[0mgot_first_val\u001b[0m \u001b[0;34m=\u001b[0m \u001b[0;32mFalse\u001b[0m\u001b[0;34m\u001b[0m\u001b[0;34m\u001b[0m\u001b[0m\n\u001b[1;32m   1162\u001b[0m \u001b[0;34m\u001b[0m\u001b[0m\n\u001b[0;32m-> 1163\u001b[0;31m         \u001b[0;32mfor\u001b[0m \u001b[0michunk\u001b[0m \u001b[0;32min\u001b[0m \u001b[0minput\u001b[0m\u001b[0;34m:\u001b[0m\u001b[0;34m\u001b[0m\u001b[0;34m\u001b[0m\u001b[0m\n\u001b[0m\u001b[1;32m   1164\u001b[0m             \u001b[0;31m# The default implementation of transform is to buffer input and\u001b[0m\u001b[0;34m\u001b[0m\u001b[0;34m\u001b[0m\u001b[0m\n\u001b[1;32m   1165\u001b[0m             \u001b[0;31m# then call stream.\u001b[0m\u001b[0;34m\u001b[0m\u001b[0;34m\u001b[0m\u001b[0m\n",
            "\u001b[0;32m/usr/local/lib/python3.10/dist-packages/langchain_core/runnables/base.py\u001b[0m in \u001b[0;36mtransform\u001b[0;34m(self, input, config, **kwargs)\u001b[0m\n\u001b[1;32m   4782\u001b[0m         \u001b[0;34m**\u001b[0m\u001b[0mkwargs\u001b[0m\u001b[0;34m:\u001b[0m \u001b[0mAny\u001b[0m\u001b[0;34m,\u001b[0m\u001b[0;34m\u001b[0m\u001b[0;34m\u001b[0m\u001b[0m\n\u001b[1;32m   4783\u001b[0m     ) -> Iterator[Output]:\n\u001b[0;32m-> 4784\u001b[0;31m         yield from self.bound.transform(\n\u001b[0m\u001b[1;32m   4785\u001b[0m             \u001b[0minput\u001b[0m\u001b[0;34m,\u001b[0m\u001b[0;34m\u001b[0m\u001b[0;34m\u001b[0m\u001b[0m\n\u001b[1;32m   4786\u001b[0m             \u001b[0mself\u001b[0m\u001b[0;34m.\u001b[0m\u001b[0m_merge_configs\u001b[0m\u001b[0;34m(\u001b[0m\u001b[0mconfig\u001b[0m\u001b[0;34m)\u001b[0m\u001b[0;34m,\u001b[0m\u001b[0;34m\u001b[0m\u001b[0;34m\u001b[0m\u001b[0m\n",
            "\u001b[0;32m/usr/local/lib/python3.10/dist-packages/langchain_core/runnables/base.py\u001b[0m in \u001b[0;36mtransform\u001b[0;34m(self, input, config, **kwargs)\u001b[0m\n\u001b[1;32m   1179\u001b[0m \u001b[0;34m\u001b[0m\u001b[0m\n\u001b[1;32m   1180\u001b[0m         \u001b[0;32mif\u001b[0m \u001b[0mgot_first_val\u001b[0m\u001b[0;34m:\u001b[0m\u001b[0;34m\u001b[0m\u001b[0;34m\u001b[0m\u001b[0m\n\u001b[0;32m-> 1181\u001b[0;31m             \u001b[0;32myield\u001b[0m \u001b[0;32mfrom\u001b[0m \u001b[0mself\u001b[0m\u001b[0;34m.\u001b[0m\u001b[0mstream\u001b[0m\u001b[0;34m(\u001b[0m\u001b[0mfinal\u001b[0m\u001b[0;34m,\u001b[0m \u001b[0mconfig\u001b[0m\u001b[0;34m,\u001b[0m \u001b[0;34m**\u001b[0m\u001b[0mkwargs\u001b[0m\u001b[0;34m)\u001b[0m\u001b[0;34m\u001b[0m\u001b[0;34m\u001b[0m\u001b[0m\n\u001b[0m\u001b[1;32m   1182\u001b[0m \u001b[0;34m\u001b[0m\u001b[0m\n\u001b[1;32m   1183\u001b[0m     async def atransform(\n",
            "\u001b[0;32m/usr/local/lib/python3.10/dist-packages/langchain_core/language_models/chat_models.py\u001b[0m in \u001b[0;36mstream\u001b[0;34m(self, input, config, stop, **kwargs)\u001b[0m\n\u001b[1;32m    263\u001b[0m                     ),\n\u001b[1;32m    264\u001b[0m                 )\n\u001b[0;32m--> 265\u001b[0;31m                 \u001b[0;32mraise\u001b[0m \u001b[0me\u001b[0m\u001b[0;34m\u001b[0m\u001b[0;34m\u001b[0m\u001b[0m\n\u001b[0m\u001b[1;32m    266\u001b[0m             \u001b[0;32melse\u001b[0m\u001b[0;34m:\u001b[0m\u001b[0;34m\u001b[0m\u001b[0;34m\u001b[0m\u001b[0m\n\u001b[1;32m    267\u001b[0m                 \u001b[0mrun_manager\u001b[0m\u001b[0;34m.\u001b[0m\u001b[0mon_llm_end\u001b[0m\u001b[0;34m(\u001b[0m\u001b[0mLLMResult\u001b[0m\u001b[0;34m(\u001b[0m\u001b[0mgenerations\u001b[0m\u001b[0;34m=\u001b[0m\u001b[0;34m[\u001b[0m\u001b[0;34m[\u001b[0m\u001b[0mgeneration\u001b[0m\u001b[0;34m]\u001b[0m\u001b[0;34m]\u001b[0m\u001b[0;34m)\u001b[0m\u001b[0;34m)\u001b[0m\u001b[0;34m\u001b[0m\u001b[0;34m\u001b[0m\u001b[0m\n",
            "\u001b[0;32m/usr/local/lib/python3.10/dist-packages/langchain_core/language_models/chat_models.py\u001b[0m in \u001b[0;36mstream\u001b[0;34m(self, input, config, stop, **kwargs)\u001b[0m\n\u001b[1;32m    255\u001b[0m                     \u001b[0;32melse\u001b[0m\u001b[0;34m:\u001b[0m\u001b[0;34m\u001b[0m\u001b[0;34m\u001b[0m\u001b[0m\n\u001b[1;32m    256\u001b[0m                         \u001b[0mgeneration\u001b[0m \u001b[0;34m+=\u001b[0m \u001b[0mchunk\u001b[0m\u001b[0;34m\u001b[0m\u001b[0;34m\u001b[0m\u001b[0m\n\u001b[0;32m--> 257\u001b[0;31m                 \u001b[0;32massert\u001b[0m \u001b[0mgeneration\u001b[0m \u001b[0;32mis\u001b[0m \u001b[0;32mnot\u001b[0m \u001b[0;32mNone\u001b[0m\u001b[0;34m\u001b[0m\u001b[0;34m\u001b[0m\u001b[0m\n\u001b[0m\u001b[1;32m    258\u001b[0m             \u001b[0;32mexcept\u001b[0m \u001b[0mBaseException\u001b[0m \u001b[0;32mas\u001b[0m \u001b[0me\u001b[0m\u001b[0;34m:\u001b[0m\u001b[0;34m\u001b[0m\u001b[0;34m\u001b[0m\u001b[0m\n\u001b[1;32m    259\u001b[0m                 run_manager.on_llm_error(\n",
            "\u001b[0;31mAssertionError\u001b[0m: "
          ]
        }
      ]
    },
    {
      "cell_type": "code",
      "source": [
        "agent.invoke(\"IP주소가 100.170.1.0을 포함하는 row를 찾아줘\")"
      ],
      "metadata": {
        "colab": {
          "base_uri": "https://localhost:8080/"
        },
        "id": "MxF32AtREv75",
        "outputId": "22de9371-99da-455c-854f-ff179844e754"
      },
      "execution_count": 21,
      "outputs": [
        {
          "output_type": "stream",
          "name": "stdout",
          "text": [
            "\n",
            "\n",
            "\u001b[1m> Entering new AgentExecutor chain...\u001b[0m\n",
            "\u001b[32;1m\u001b[1;3m\n",
            "Invoking: `python_repl_ast` with `{'query': \"df[(df['IP주소'] == '100.170.1.0') | (df['IP주소'].str.contains('100.170.1.0'))].head()\"}`\n",
            "\n",
            "\n",
            "\u001b[0m\u001b[36;1m\u001b[1;3m      망구분 할당단계 IP주소 체계         IP주소  서브넷                      IP주소 범위     관리팀  \\\n",
            "2  IP인프라망   2차  IPv4사설  100.170.1.0   24  100.170.1.0 ~ 100.170.1.255  DS인프라팀   \n",
            "\n",
            "          장비명  연동장비명                용도     비고  IDC고객명  IDC고객ID   상태  중복체크자  \\\n",
            "2  S_MX960_B1    NaN  (업링크) 백본1_상위 장비1  S국사 B     NaN      NaN  미사용    NaN   \n",
            "\n",
            "   할당요청부서  \n",
            "2     NaN  \u001b[0m\u001b[32;1m\u001b[1;3mHere is the answer:\n",
            "\n",
            "The row that contains the IP address 100.170.1.0 is:\n",
            "\n",
            "|    | 망구분     | 할당단계   | IP주소 체계   | IP주소      |   서브넷 | IP주소 범위                   | 관리팀     | 장비명     |   연동장비명 | 용도                          | 비고    |   IDC고객명 |   IDC고객ID | 상태   |   중복체크자 |   할당요청부서 |\n",
            "|---:|:-----------|:-----------|:--------------|:------------|---------:|:------------------------------|:-----------|:-----------|-------------:|:------------------------------|:--------|------------:|------------:|:-------|-------------:|---------------:|\n",
            "| 2 | IP인프라망 | 2차        | IPv4사설      | 100.170.1.0 |       24 | 100.170.1.0 ~ 100.170.1.255   | DS인프라팀 | S_MX960_B1 |          nan | (인터링크) 백본1_백본2        | S국사 B |         nan |         nan | 미사용 |          nan |            nan |\u001b[0m\n",
            "\n",
            "\u001b[1m> Finished chain.\u001b[0m\n"
          ]
        },
        {
          "output_type": "execute_result",
          "data": {
            "text/plain": [
              "{'input': 'IP주소가 100.170.1.0을 포함하는 row를 찾아줘',\n",
              " 'output': 'Here is the answer:\\n\\nThe row that contains the IP address 100.170.1.0 is:\\n\\n|    | 망구분     | 할당단계   | IP주소 체계   | IP주소      |   서브넷 | IP주소 범위                   | 관리팀     | 장비명     |   연동장비명 | 용도                          | 비고    |   IDC고객명 |   IDC고객ID | 상태   |   중복체크자 |   할당요청부서 |\\n|---:|:-----------|:-----------|:--------------|:------------|---------:|:------------------------------|:-----------|:-----------|-------------:|:------------------------------|:--------|------------:|------------:|:-------|-------------:|---------------:|\\n| 2 | IP인프라망 | 2차        | IPv4사설      | 100.170.1.0 |       24 | 100.170.1.0 ~ 100.170.1.255   | DS인프라팀 | S_MX960_B1 |          nan | (인터링크) 백본1_백본2        | S국사 B |         nan |         nan | 미사용 |          nan |            nan |'}"
            ]
          },
          "metadata": {},
          "execution_count": 21
        }
      ]
    },
    {
      "cell_type": "code",
      "source": [
        "agent.invoke(\"방금 검색한 row 내용을 네가 자세하게 설명해줘\")"
      ],
      "metadata": {
        "colab": {
          "base_uri": "https://localhost:8080/"
        },
        "id": "mMxBsyncEyc4",
        "outputId": "c7e116be-91b1-402b-8a1e-b58fc5388657"
      },
      "execution_count": 22,
      "outputs": [
        {
          "output_type": "stream",
          "name": "stdout",
          "text": [
            "\n",
            "\n",
            "\u001b[1m> Entering new AgentExecutor chain...\u001b[0m\n",
            "\u001b[32;1m\u001b[1;3m\n",
            "Invoking: `python_repl_ast` with `{'query': 'print(df.head())'}`\n",
            "\n",
            "\n",
            "\u001b[0m\u001b[36;1m\u001b[1;3m      망구분 할당단계 IP주소 체계         IP주소  서브넷                        IP주소 범위  \\\n",
            "0  IP인프라망   1차  IPv4사설  100.170.0.0   17  100.170.0.0 ~ 100.170.127.255   \n",
            "1  IP인프라망   2차  IPv4사설  100.170.0.0   24    100.170.0.0 ~ 100.170.0.255   \n",
            "2  IP인프라망   2차  IPv4사설  100.170.1.0   24    100.170.1.0 ~ 100.170.1.255   \n",
            "3  IP인프라망   2차  IPv4사설  100.170.2.0   24    100.170.2.0 ~ 100.170.2.255   \n",
            "4  IP인프라망   2차  IPv4사설  100.170.3.0   24    100.170.3.0 ~ 100.170.3.255   \n",
            "\n",
            "      관리팀         장비명  연동장비명                 용도     비고  IDC고객명  IDC고객ID   상태  \\\n",
            "0    K기술팀         NaN    NaN  광대역데이터망 백본 링크용 IP  S국사 B     NaN      NaN  미사용   \n",
            "1  DS인프라팀  S_MX960_B1    NaN     (인터링크) 백본1_백본2  S국사 B     NaN      NaN  미사용   \n",
            "2  DS인프라팀  S_MX960_B1    NaN   (업링크) 백본1_상위 장비1  S국사 B     NaN      NaN  미사용   \n",
            "3  DS인프라팀  S_MX960_B1    NaN   (업링크) 백본1_상위 장비2  S국사 B     NaN      NaN  미사용   \n",
            "4  DS인프라팀  S_MX960_B1    NaN   (다운링크) 백본1_하위 장비  S국사 B     NaN      NaN  미사용   \n",
            "\n",
            "   중복체크자  할당요청부서  \n",
            "0    NaN     NaN  \n",
            "1    NaN     NaN  \n",
            "2    NaN     NaN  \n",
            "3    NaN     NaN  \n",
            "4    NaN     NaN  \n",
            "\u001b[0m\u001b[32;1m\u001b[1;3mHere's a detailed explanation of the searched row:\n",
            "\n",
            "The row appears to be a dataframe row from a pandas DataFrame in Python. The dataframe seems to contain information about IP addresses and network infrastructure.\n",
            "\n",
            "The columns in this dataframe are:\n",
            "\n",
            "1. 망구분 (Mang-gu-bun) - This column seems to contain the name of the network infrastructure.\n",
            "2. 할당단계 (Ha-ryong-dan-je) - This column appears to contain the allocation stage of the network infrastructure.\n",
            "3. IP주소 체계 (IP-jo-seong-che-gye) - This column seems to contain the IP address system.\n",
            "4. IP주소 (IP-jo-seong) - This column appears to contain the actual IP address.\n",
            "5. 서브넷 (Seu-bun-net) - This column seems to contain the subnet mask.\n",
            "6. IP주소 범위 (IP-jo-seong-beom-ye) - This column appears to contain the range of IP addresses.\n",
            "7. 관리팀 (Gun-ji-yu-team) - This column seems to contain the team responsible for managing the network infrastructure.\n",
            "8. 장비명 (Jang-be-i-myeong) - This column appears to contain the name of the network equipment.\n",
            "9. 연동장비명 (Ye-on-dong-jang-be-i-myeong) - This column seems to contain the name of the connected device.\n",
            "10. 용도 (Yong-do) - This column seems to contain the purpose or function of the network infrastructure.\n",
            "11. 비고 (Bi-go) - This column seems to contain additional notes or comments.\n",
            "12. IDC고객명 (IDC-go-keum-myeong) - This column seems to contain the name of the IDC (Internet Data Center) customer.\n",
            "13. IDC고객ID (IDC-go-keum-I-D) - This column seems to contain the IDC customer ID.\n",
            "14. 상태 (Sung-ga) - This column seems to contain the current status of the network infrastructure.\n",
            "15. 중복체크자 (Jung-dok-cheo-che-ka) - This column seems to contain the name of the person or team responsible for checking for duplicates.\n",
            "16. 할당요청부서 (Ha-ryong-yo-yeong-bu-seo) - This column seems to contain the department or team responsible for requesting the allocation of network resources.\n",
            "\n",
            "This dataframe appears to contain information about the network infrastructure, including IP addresses, subnet masks, and device names.\u001b[0m\n",
            "\n",
            "\u001b[1m> Finished chain.\u001b[0m\n"
          ]
        },
        {
          "output_type": "execute_result",
          "data": {
            "text/plain": [
              "{'input': '방금 검색한 row 내용을 네가 자세하게 설명해줘',\n",
              " 'output': \"Here's a detailed explanation of the searched row:\\n\\nThe row appears to be a dataframe row from a pandas DataFrame in Python. The dataframe seems to contain information about IP addresses and network infrastructure.\\n\\nThe columns in this dataframe are:\\n\\n1. 망구분 (Mang-gu-bun) - This column seems to contain the name of the network infrastructure.\\n2. 할당단계 (Ha-ryong-dan-je) - This column appears to contain the allocation stage of the network infrastructure.\\n3. IP주소 체계 (IP-jo-seong-che-gye) - This column seems to contain the IP address system.\\n4. IP주소 (IP-jo-seong) - This column appears to contain the actual IP address.\\n5. 서브넷 (Seu-bun-net) - This column seems to contain the subnet mask.\\n6. IP주소 범위 (IP-jo-seong-beom-ye) - This column appears to contain the range of IP addresses.\\n7. 관리팀 (Gun-ji-yu-team) - This column seems to contain the team responsible for managing the network infrastructure.\\n8. 장비명 (Jang-be-i-myeong) - This column appears to contain the name of the network equipment.\\n9. 연동장비명 (Ye-on-dong-jang-be-i-myeong) - This column seems to contain the name of the connected device.\\n10. 용도 (Yong-do) - This column seems to contain the purpose or function of the network infrastructure.\\n11. 비고 (Bi-go) - This column seems to contain additional notes or comments.\\n12. IDC고객명 (IDC-go-keum-myeong) - This column seems to contain the name of the IDC (Internet Data Center) customer.\\n13. IDC고객ID (IDC-go-keum-I-D) - This column seems to contain the IDC customer ID.\\n14. 상태 (Sung-ga) - This column seems to contain the current status of the network infrastructure.\\n15. 중복체크자 (Jung-dok-cheo-che-ka) - This column seems to contain the name of the person or team responsible for checking for duplicates.\\n16. 할당요청부서 (Ha-ryong-yo-yeong-bu-seo) - This column seems to contain the department or team responsible for requesting the allocation of network resources.\\n\\nThis dataframe appears to contain information about the network infrastructure, including IP addresses, subnet masks, and device names.\"}"
            ]
          },
          "metadata": {},
          "execution_count": 22
        }
      ]
    },
    {
      "cell_type": "code",
      "source": [],
      "metadata": {
        "id": "U9fZgDCAE7Xx"
      },
      "execution_count": null,
      "outputs": []
    }
  ]
}